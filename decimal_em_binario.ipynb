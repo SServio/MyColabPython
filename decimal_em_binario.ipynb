{
  "nbformat": 4,
  "nbformat_minor": 0,
  "metadata": {
    "colab": {
      "provenance": [],
      "authorship_tag": "ABX9TyM/aNyNbw31VobcWEXFSvqC",
      "include_colab_link": true
    },
    "kernelspec": {
      "name": "python3",
      "display_name": "Python 3"
    },
    "language_info": {
      "name": "python"
    }
  },
  "cells": [
    {
      "cell_type": "markdown",
      "metadata": {
        "id": "view-in-github",
        "colab_type": "text"
      },
      "source": [
        "<a href=\"https://colab.research.google.com/github/SServio/MyColabPython/blob/main/decimal_em_binario.ipynb\" target=\"_parent\"><img src=\"https://colab.research.google.com/assets/colab-badge.svg\" alt=\"Open In Colab\"/></a>"
      ]
    },
    {
      "cell_type": "markdown",
      "source": [
        "Converter numeros de base decimal em numeros de base 2 Binário"
      ],
      "metadata": {
        "id": "_KBkyzmqx20A"
      }
    },
    {
      "cell_type": "code",
      "source": [
        "num_decimal = input(\"Digite um número decimal inteiro: \")\n",
        "decimal_int = int(num_decimal)\n",
        "print(f\"O numero digitado foi {decimal_int}\")"
      ],
      "metadata": {
        "id": "B9jYr18vx_kF"
      },
      "execution_count": null,
      "outputs": []
    }
  ]
}